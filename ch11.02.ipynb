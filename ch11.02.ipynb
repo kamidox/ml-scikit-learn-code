{
 "cells": [
  {
   "cell_type": "code",
   "execution_count": 1,
   "metadata": {},
   "outputs": [],
   "source": [
    "%matplotlib inline\n",
    "import matplotlib.pyplot as plt\n",
    "import numpy as np"
   ]
  },
  {
   "cell_type": "code",
   "execution_count": 2,
   "metadata": {},
   "outputs": [
    {
     "name": "stdout",
     "output_type": "stream",
     "text": [
      "loading documents ...\n",
      "summary: 3949 documents in 4 categories.\n",
      "done in 0.05391120910644531 seconds\n"
     ]
    }
   ],
   "source": [
    "from time import time\n",
    "from sklearn.datasets import load_files\n",
    "\n",
    "print(\"loading documents ...\")\n",
    "t = time()\n",
    "docs = load_files('datasets/clustering/data')\n",
    "print(\"summary: {0} documents in {1} categories.\".format(\n",
    "    len(docs.data), len(docs.target_names)))\n",
    "print(\"done in {0} seconds\".format(time() - t))"
   ]
  },
  {
   "cell_type": "code",
   "execution_count": 3,
   "metadata": {},
   "outputs": [
    {
     "name": "stdout",
     "output_type": "stream",
     "text": [
      "vectorizing documents ...\n",
      "n_samples: 3949, n_features: 20000\n",
      "number of non-zero features in sample [datasets/clustering/data/sci.electronics/11902-54322]: 56\n",
      "done in 0.40638208389282227 seconds\n"
     ]
    }
   ],
   "source": [
    "from sklearn.feature_extraction.text import TfidfVectorizer\n",
    "\n",
    "max_features = 20000\n",
    "print(\"vectorizing documents ...\")\n",
    "t = time()\n",
    "vectorizer = TfidfVectorizer(max_df=0.4, \n",
    "                             min_df=2, \n",
    "                             max_features=max_features, \n",
    "                             encoding='latin-1')\n",
    "X = vectorizer.fit_transform((d for d in docs.data))\n",
    "print(\"n_samples: %d, n_features: %d\" % X.shape)\n",
    "print(\"number of non-zero features in sample [{0}]: {1}\".format(\n",
    "    docs.filenames[0], X[0].getnnz()))\n",
    "print(\"done in {0} seconds\".format(time() - t))"
   ]
  },
  {
   "cell_type": "code",
   "execution_count": 4,
   "metadata": {},
   "outputs": [
    {
     "name": "stdout",
     "output_type": "stream",
     "text": [
      "clustering documents ...\n",
      "Initialization complete\n",
      "Iteration 0, inertia 7565.864829378881\n",
      "Iteration 1, inertia 3844.843426433031\n",
      "Iteration 2, inertia 3833.643792836914\n",
      "Iteration 3, inertia 3830.542968974707\n",
      "Iteration 4, inertia 3827.881802393392\n",
      "Iteration 5, inertia 3825.824980044752\n",
      "Iteration 6, inertia 3823.818483879976\n",
      "Iteration 7, inertia 3822.4141829397886\n",
      "Iteration 8, inertia 3820.4456894787654\n",
      "Iteration 9, inertia 3818.9989605774335\n",
      "Iteration 10, inertia 3818.226372617699\n",
      "Iteration 11, inertia 3817.468294194249\n",
      "Iteration 12, inertia 3816.948196405341\n",
      "Iteration 13, inertia 3816.607441895567\n",
      "Iteration 14, inertia 3816.359426640883\n",
      "Iteration 15, inertia 3816.33544836309\n",
      "Iteration 16, inertia 3816.3140336019082\n",
      "Iteration 17, inertia 3816.306392849937\n",
      "Iteration 18, inertia 3816.3026140311795\n",
      "Iteration 19, inertia 3816.3007895598926\n",
      "Converged at iteration 19: strict convergence.\n",
      "Initialization complete\n",
      "Iteration 0, inertia 7470.665399825355\n",
      "Iteration 1, inertia 3851.055619064295\n",
      "Iteration 2, inertia 3839.7282893071715\n",
      "Iteration 3, inertia 3829.913381598237\n",
      "Iteration 4, inertia 3824.1367219651816\n",
      "Iteration 5, inertia 3822.235840820858\n",
      "Iteration 6, inertia 3821.2522136120197\n",
      "Iteration 7, inertia 3820.601319756487\n",
      "Iteration 8, inertia 3820.114617863317\n",
      "Iteration 9, inertia 3819.8344069282916\n",
      "Iteration 10, inertia 3819.547924393504\n",
      "Iteration 11, inertia 3819.350216142437\n",
      "Iteration 12, inertia 3819.1797162013827\n",
      "Iteration 13, inertia 3819.0755670663957\n",
      "Iteration 14, inertia 3819.016993462821\n",
      "Iteration 15, inertia 3818.9618615300005\n",
      "Iteration 16, inertia 3818.881125136627\n",
      "Iteration 17, inertia 3818.810581096211\n",
      "Iteration 18, inertia 3818.7385750241965\n",
      "Iteration 19, inertia 3818.670148584337\n",
      "Iteration 20, inertia 3818.6290255330473\n",
      "Iteration 21, inertia 3818.56958512285\n",
      "Iteration 22, inertia 3818.514952632084\n",
      "Iteration 23, inertia 3818.4660668079846\n",
      "Iteration 24, inertia 3818.4012357722872\n",
      "Iteration 25, inertia 3818.326841049568\n",
      "Iteration 26, inertia 3818.257967801287\n",
      "Iteration 27, inertia 3818.188903555264\n",
      "Iteration 28, inertia 3818.138452744025\n",
      "Iteration 29, inertia 3818.099147993458\n",
      "Iteration 30, inertia 3818.0657440714212\n",
      "Iteration 31, inertia 3818.022728288462\n",
      "Iteration 32, inertia 3817.9988147885206\n",
      "Iteration 33, inertia 3817.965422155843\n",
      "Iteration 34, inertia 3817.943683485421\n",
      "Iteration 35, inertia 3817.922584018639\n",
      "Iteration 36, inertia 3817.90638718817\n",
      "Iteration 37, inertia 3817.890407102458\n",
      "Iteration 38, inertia 3817.8745270550817\n",
      "Iteration 39, inertia 3817.8658440384124\n",
      "Iteration 40, inertia 3817.858284109161\n",
      "Iteration 41, inertia 3817.8562907917194\n",
      "Converged at iteration 41: strict convergence.\n",
      "Initialization complete\n",
      "Iteration 0, inertia 7518.32731222825\n",
      "Iteration 1, inertia 3846.6661693653937\n",
      "Iteration 2, inertia 3830.5812583373126\n",
      "Iteration 3, inertia 3823.435369614901\n",
      "Iteration 4, inertia 3822.309868776636\n",
      "Iteration 5, inertia 3821.8715006562124\n",
      "Iteration 6, inertia 3821.4856917936586\n",
      "Iteration 7, inertia 3821.132605022704\n",
      "Iteration 8, inertia 3820.64223716306\n",
      "Iteration 9, inertia 3819.6992419523117\n",
      "Iteration 10, inertia 3817.551185896543\n",
      "Iteration 11, inertia 3815.3023883613973\n",
      "Iteration 12, inertia 3814.86912876085\n",
      "Iteration 13, inertia 3814.644539703774\n",
      "Iteration 14, inertia 3814.403598652801\n",
      "Iteration 15, inertia 3814.296692184479\n",
      "Iteration 16, inertia 3814.291769267258\n",
      "Iteration 17, inertia 3814.289726308535\n",
      "Converged at iteration 17: strict convergence.\n"
     ]
    },
    {
     "data": {
      "text/plain": [
       "KMeans(max_iter=100, n_clusters=4, n_init=3, tol=0.01, verbose=1)"
      ]
     },
     "execution_count": 4,
     "metadata": {},
     "output_type": "execute_result"
    },
    {
     "name": "stdout",
     "output_type": "stream",
     "text": [
      "kmean: k=4, cost=3814\n",
      "done in 0.462360143661499 seconds\n"
     ]
    }
   ],
   "source": [
    "from sklearn.cluster import KMeans\n",
    "\n",
    "print(\"clustering documents ...\")\n",
    "t = time()\n",
    "n_clusters = 4\n",
    "kmean = KMeans(n_clusters=n_clusters, \n",
    "               max_iter=100,\n",
    "               tol=0.01,\n",
    "               verbose=1,\n",
    "               n_init=3)\n",
    "kmean.fit(X);\n",
    "print(\"kmean: k={}, cost={}\".format(n_clusters, int(kmean.inertia_)))\n",
    "print(\"done in {0} seconds\".format(time() - t))"
   ]
  },
  {
   "cell_type": "code",
   "execution_count": 5,
   "metadata": {},
   "outputs": [
    {
     "data": {
      "text/plain": [
       "3949"
      ]
     },
     "execution_count": 5,
     "metadata": {},
     "output_type": "execute_result"
    }
   ],
   "source": [
    "len(kmean.labels_)"
   ]
  },
  {
   "cell_type": "code",
   "execution_count": 6,
   "metadata": {},
   "outputs": [
    {
     "data": {
      "text/plain": [
       "array([3, 3, 3, 1, 0, 1, 2, 3, 1, 1], dtype=int32)"
      ]
     },
     "execution_count": 6,
     "metadata": {},
     "output_type": "execute_result"
    }
   ],
   "source": [
    "kmean.labels_[1000:1010]"
   ]
  },
  {
   "cell_type": "code",
   "execution_count": 7,
   "metadata": {},
   "outputs": [
    {
     "data": {
      "text/plain": [
       "array(['datasets/clustering/data/sci.crypt/10888-15289',\n",
       "       'datasets/clustering/data/sci.crypt/11490-15880',\n",
       "       'datasets/clustering/data/sci.crypt/11270-15346',\n",
       "       'datasets/clustering/data/sci.electronics/12383-53525',\n",
       "       'datasets/clustering/data/sci.space/13826-60862',\n",
       "       'datasets/clustering/data/sci.electronics/11631-54106',\n",
       "       'datasets/clustering/data/sci.space/14235-61437',\n",
       "       'datasets/clustering/data/sci.crypt/11508-15928',\n",
       "       'datasets/clustering/data/sci.space/13593-60824',\n",
       "       'datasets/clustering/data/sci.electronics/12304-52801'],\n",
       "      dtype='<U52')"
      ]
     },
     "execution_count": 7,
     "metadata": {},
     "output_type": "execute_result"
    }
   ],
   "source": [
    "docs.filenames[1000:1010]"
   ]
  },
  {
   "cell_type": "code",
   "execution_count": 8,
   "metadata": {},
   "outputs": [
    {
     "name": "stdout",
     "output_type": "stream",
     "text": [
      "Top terms per cluster:\n",
      "Cluster 0: henry toronto zoo spencer zoology utzoo work kipling svr3 svr4\n",
      "Cluster 1: my any me by your know some do so has\n",
      "Cluster 2: space nasa pat moon shuttle gov we digex mission access\n",
      "Cluster 3: key clipper chip encryption government keys will escrow we nsa\n"
     ]
    }
   ],
   "source": [
    "from __future__ import print_function\n",
    "\n",
    "print(\"Top terms per cluster:\")\n",
    "\n",
    "order_centroids = kmean.cluster_centers_.argsort()[:, ::-1]\n",
    "\n",
    "terms = vectorizer.get_feature_names_out()\n",
    "for i in range(n_clusters):\n",
    "    print(\"Cluster %d:\" % i, end='')\n",
    "    for ind in order_centroids[i, :10]:\n",
    "        print(' %s' % terms[ind], end='')\n",
    "    print()"
   ]
  },
  {
   "cell_type": "code",
   "execution_count": 9,
   "metadata": {},
   "outputs": [
    {
     "data": {
      "text/plain": [
       "array([[3, 2, 0, 1],\n",
       "       [3, 1, 2, 0],\n",
       "       [1, 2, 3, 0]])"
      ]
     },
     "execution_count": 9,
     "metadata": {},
     "output_type": "execute_result"
    }
   ],
   "source": [
    "a = np.array([[20, 10, 30, 40], [100, 300, 200, 400], [1, 5, 3, 2]])\n",
    "a.argsort()[:, ::-1]"
   ]
  },
  {
   "cell_type": "code",
   "execution_count": 10,
   "metadata": {},
   "outputs": [
    {
     "data": {
      "text/plain": [
       "array([3, 1, 2, 0])"
      ]
     },
     "execution_count": 10,
     "metadata": {},
     "output_type": "execute_result"
    }
   ],
   "source": [
    "a = np.array([10, 30, 20, 40])\n",
    "a.argsort()[::-1]"
   ]
  },
  {
   "cell_type": "code",
   "execution_count": 11,
   "metadata": {},
   "outputs": [
    {
     "name": "stdout",
     "output_type": "stream",
     "text": [
      "Adjusted Rand-Index for random sample: 0.318\n",
      "Adjusted Rand-Index for same structure sample: 1.000\n"
     ]
    }
   ],
   "source": [
    "from sklearn import metrics\n",
    "\n",
    "label_true = np.random.randint(1, 4, 6)\n",
    "label_pred = np.random.randint(1, 4, 6)\n",
    "print(\"Adjusted Rand-Index for random sample: %.3f\"\n",
    "      % metrics.adjusted_rand_score(label_true, label_pred))\n",
    "label_true = [1, 1, 3, 3, 2, 2]\n",
    "label_pred = [3, 3, 2, 2, 1, 1]\n",
    "print(\"Adjusted Rand-Index for same structure sample: %.3f\"\n",
    "      % metrics.adjusted_rand_score(label_true, label_pred))"
   ]
  },
  {
   "cell_type": "code",
   "execution_count": 12,
   "metadata": {},
   "outputs": [
    {
     "name": "stdout",
     "output_type": "stream",
     "text": [
      "Homogeneity score for same structure sample: 1.000\n",
      "Homogeneity score for each cluster come from only one class: 1.000\n",
      "Homogeneity score for each cluster come from two class: 0.000\n",
      "Homogeneity score for random sample: 0.685\n"
     ]
    }
   ],
   "source": [
    "from sklearn import metrics\n",
    "\n",
    "label_true = [1, 1, 2, 2]\n",
    "label_pred = [2, 2, 1, 1]\n",
    "print(\"Homogeneity score for same structure sample: %.3f\"\n",
    "      % metrics.homogeneity_score(label_true, label_pred))\n",
    "label_true = [1, 1, 2, 2]\n",
    "label_pred = [0, 1, 2, 3]\n",
    "print(\"Homogeneity score for each cluster come from only one class: %.3f\"\n",
    "      % metrics.homogeneity_score(label_true, label_pred))\n",
    "label_true = [1, 1, 2, 2]\n",
    "label_pred = [1, 2, 1, 2]\n",
    "print(\"Homogeneity score for each cluster come from two class: %.3f\"\n",
    "      % metrics.homogeneity_score(label_true, label_pred))\n",
    "label_true = np.random.randint(1, 4, 6)\n",
    "label_pred = np.random.randint(1, 4, 6)\n",
    "print(\"Homogeneity score for random sample: %.3f\"\n",
    "      % metrics.homogeneity_score(label_true, label_pred))"
   ]
  },
  {
   "cell_type": "code",
   "execution_count": 13,
   "metadata": {},
   "outputs": [
    {
     "name": "stdout",
     "output_type": "stream",
     "text": [
      "Completeness score for same structure sample: 1.000\n",
      "Completeness score for each class assign to only one cluster: 1.000\n",
      "Completeness score for each class assign to two class: 0.000\n",
      "Completeness score for random sample: 0.315\n"
     ]
    }
   ],
   "source": [
    "from sklearn import metrics\n",
    "\n",
    "label_true = [1, 1, 2, 2]\n",
    "label_pred = [2, 2, 1, 1]\n",
    "print(\"Completeness score for same structure sample: %.3f\"\n",
    "      % metrics.completeness_score(label_true, label_pred))\n",
    "label_true = [0, 1, 2, 3]\n",
    "label_pred = [1, 1, 2, 2]\n",
    "print(\"Completeness score for each class assign to only one cluster: %.3f\"\n",
    "      % metrics.completeness_score(label_true, label_pred))\n",
    "label_true = [1, 1, 2, 2]\n",
    "label_pred = [1, 2, 1, 2]\n",
    "print(\"Completeness score for each class assign to two class: %.3f\"\n",
    "      % metrics.completeness_score(label_true, label_pred))\n",
    "label_true = np.random.randint(1, 4, 6)\n",
    "label_pred = np.random.randint(1, 4, 6)\n",
    "print(\"Completeness score for random sample: %.3f\"\n",
    "      % metrics.completeness_score(label_true, label_pred))"
   ]
  },
  {
   "cell_type": "code",
   "execution_count": 14,
   "metadata": {},
   "outputs": [
    {
     "name": "stdout",
     "output_type": "stream",
     "text": [
      "V-measure score for same structure sample: 1.000\n",
      "V-measure score for each class assign to only one cluster: 0.667\n",
      "V-measure score for each class assign to only one cluster: 0.667\n",
      "V-measure score for each class assign to two class: 0.000\n"
     ]
    }
   ],
   "source": [
    "from sklearn import metrics\n",
    "\n",
    "label_true = [1, 1, 2, 2]\n",
    "label_pred = [2, 2, 1, 1]\n",
    "print(\"V-measure score for same structure sample: %.3f\"\n",
    "      % metrics.v_measure_score(label_true, label_pred))\n",
    "label_true = [0, 1, 2, 3]\n",
    "label_pred = [1, 1, 2, 2]\n",
    "print(\"V-measure score for each class assign to only one cluster: %.3f\"\n",
    "      % metrics.v_measure_score(label_true, label_pred))\n",
    "print(\"V-measure score for each class assign to only one cluster: %.3f\"\n",
    "      % metrics.v_measure_score(label_pred, label_true))\n",
    "label_true = [1, 1, 2, 2]\n",
    "label_pred = [1, 2, 1, 2]\n",
    "print(\"V-measure score for each class assign to two class: %.3f\"\n",
    "      % metrics.v_measure_score(label_true, label_pred))"
   ]
  },
  {
   "cell_type": "code",
   "execution_count": 15,
   "metadata": {},
   "outputs": [
    {
     "name": "stdout",
     "output_type": "stream",
     "text": [
      "Homogeneity: 0.404\n",
      "Completeness: 0.583\n",
      "V-measure: 0.477\n",
      "Adjusted Rand-Index: 0.279\n",
      "Silhouette Coefficient: 0.005\n"
     ]
    }
   ],
   "source": [
    "from sklearn import metrics\n",
    "\n",
    "labels = docs.target\n",
    "print(\"Homogeneity: %0.3f\" % metrics.homogeneity_score(labels, kmean.labels_))\n",
    "print(\"Completeness: %0.3f\" % metrics.completeness_score(labels, kmean.labels_))\n",
    "print(\"V-measure: %0.3f\" % metrics.v_measure_score(labels, kmean.labels_))\n",
    "print(\"Adjusted Rand-Index: %.3f\"\n",
    "      % metrics.adjusted_rand_score(labels, kmean.labels_))\n",
    "print(\"Silhouette Coefficient: %0.3f\"\n",
    "      % metrics.silhouette_score(X, kmean.labels_, sample_size=1000))"
   ]
  },
  {
   "cell_type": "code",
   "execution_count": null,
   "metadata": {},
   "outputs": [],
   "source": []
  }
 ],
 "metadata": {
  "kernelspec": {
   "display_name": "Python 3 (ipykernel)",
   "language": "python",
   "name": "python3"
  },
  "language_info": {
   "codemirror_mode": {
    "name": "ipython",
    "version": 3
   },
   "file_extension": ".py",
   "mimetype": "text/x-python",
   "name": "python",
   "nbconvert_exporter": "python",
   "pygments_lexer": "ipython3",
   "version": "3.10.2"
  }
 },
 "nbformat": 4,
 "nbformat_minor": 4
}
